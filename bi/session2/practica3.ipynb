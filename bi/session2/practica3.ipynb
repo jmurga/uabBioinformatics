{
 "cells": [
  {
   "cell_type": "code",
   "execution_count": 3,
   "metadata": {},
   "outputs": [],
   "source": [
    "import Bio\n",
    "from Bio import SeqIO\n",
    "from Bio import Entrez"
   ]
  },
  {
   "cell_type": "code",
   "execution_count": 13,
   "metadata": {},
   "outputs": [
    {
     "data": {
      "text/plain": [
       "SeqRecord(seq=Seq('TAAGTTATTATTTAGTTAATACTTTTAACAATATTATTAAGGTATTTAAAAAAT...TAC', SingleLetterAlphabet()), id='NC_000908.2', name='NC_000908.2', description='NC_000908.2 Mycoplasma genitalium G37, complete genome', dbxrefs=[])"
      ]
     },
     "execution_count": 13,
     "metadata": {},
     "output_type": "execute_result"
    }
   ],
   "source": [
    "Entrez.mail = 'example@gmail.com'\n",
    "handle = Entrez.efetch(db = 'nucleotide', id ='NC_000908', rettype='fasta')\n",
    "sequence = SeqIO.read(handle,'fasta')\n",
    "handle.close()\n",
    "## Comprobar los elementos que hay dentro del objeto con el que descargamos la sequencia\n",
    "sequence"
   ]
  },
  {
   "cell_type": "code",
   "execution_count": 14,
   "metadata": {},
   "outputs": [],
   "source": [
    "## Extraer solo la secuencia\n",
    "sequence = sequence.seq"
   ]
  },
  {
   "cell_type": "code",
   "execution_count": 15,
   "metadata": {},
   "outputs": [
    {
     "data": {
      "text/plain": [
       "Seq('TAAGTTATTA', SingleLetterAlphabet())"
      ]
     },
     "execution_count": 15,
     "metadata": {},
     "output_type": "execute_result"
    }
   ],
   "source": [
    "sequence[0:10]"
   ]
  },
  {
   "cell_type": "code",
   "execution_count": 89,
   "metadata": {
    "code_folding": [
     0
    ]
   },
   "outputs": [],
   "source": [
    "def search(param):\n",
    "    \n",
    "    ## Variables\n",
    "    start = None; end = None\n",
    "    stops = ['TAA','TGA','TAG']\n",
    "    \n",
    "    ## Contadores\n",
    "    orf1=0;orf2=0;orf3=0\n",
    "    \n",
    "    ## Iterando 0, 1 y 2. Corresponde con el incio de la itearción en la cadena (frame)\n",
    "    for z in range(0,3,1):\n",
    "        ## Iterando codones\n",
    "        for i in range(z, len(param),3):\n",
    "            codon = param[i:i+3]\n",
    "            ## Comprobar si el codon es ATG y la variable start no está definida como integer\n",
    "            if(codon == 'ATG' and start is None):\n",
    "                start = i\n",
    "            ## Comprobar el codon STOP y que start esté definido\n",
    "            elif((codon == 'TAA') or (codon == 'TAG') or (codon == 'TGA')) and (start is not None):\n",
    "\n",
    "                stop = i\n",
    "                dist = stop - start\n",
    "                ##Comprobar si la distancia mínima se cumple\n",
    "                if((dist/3) > 63):\n",
    "                    if(z == 0):\n",
    "                        orf1 += 1\n",
    "                    if(z == 1):\n",
    "                        orf2 += 1\n",
    "                    if(z == 2):\n",
    "                        orf3 += 1\n",
    "                        \n",
    "                start = None; end = None\n",
    "    ## Devolver los contadores\n",
    "    return(orf1,orf2,orf3)"
   ]
  },
  {
   "cell_type": "code",
   "execution_count": 90,
   "metadata": {
    "scrolled": true
   },
   "outputs": [],
   "source": [
    "## Devuelvo tres variables, de esta forma puede guardarlo en tres variables\n",
    "frame1,frame2,frame3 = search(sequence)\n",
    "## Print todos los frames y la suma\n",
    "print(frame1,frame2,frame3,frame1+frame2+frame3)"
   ]
  },
  {
   "cell_type": "code",
   "execution_count": 95,
   "metadata": {},
   "outputs": [
    {
     "name": "stdout",
     "output_type": "stream",
     "text": [
      "99 139 120 358\n"
     ]
    }
   ],
   "source": [
    "## Devuelvo tres variables, de esta forma puede guardarlo en tres variables\n",
    "frame4,frame5,frame6 = search(sequence.reverse_complement())\n",
    "## Print todos los frames y la suma\n",
    "print(frame4,frame5,frame6,frame4+frame5+frame6)"
   ]
  }
 ],
 "metadata": {
  "kernelspec": {
   "display_name": "Python 3",
   "language": "python",
   "name": "python3"
  },
  "language_info": {
   "codemirror_mode": {
    "name": "ipython",
    "version": 3
   },
   "file_extension": ".py",
   "mimetype": "text/x-python",
   "name": "python",
   "nbconvert_exporter": "python",
   "pygments_lexer": "ipython3",
   "version": "3.6.7"
  },
  "toc": {
   "base_numbering": 1,
   "nav_menu": {},
   "number_sections": true,
   "sideBar": true,
   "skip_h1_title": false,
   "title_cell": "Table of Contents",
   "title_sidebar": "Contents",
   "toc_cell": false,
   "toc_position": {},
   "toc_section_display": true,
   "toc_window_display": false
  },
  "varInspector": {
   "cols": {
    "lenName": 16,
    "lenType": 16,
    "lenVar": 40
   },
   "kernels_config": {
    "python": {
     "delete_cmd_postfix": "",
     "delete_cmd_prefix": "del ",
     "library": "var_list.py",
     "varRefreshCmd": "print(var_dic_list())"
    },
    "r": {
     "delete_cmd_postfix": ") ",
     "delete_cmd_prefix": "rm(",
     "library": "var_list.r",
     "varRefreshCmd": "cat(var_dic_list()) "
    }
   },
   "types_to_exclude": [
    "module",
    "function",
    "builtin_function_or_method",
    "instance",
    "_Feature"
   ],
   "window_display": false
  }
 },
 "nbformat": 4,
 "nbformat_minor": 2
}
